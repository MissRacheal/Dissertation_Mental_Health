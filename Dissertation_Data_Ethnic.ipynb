{
  "nbformat": 4,
  "nbformat_minor": 0,
  "metadata": {
    "colab": {
      "provenance": [],
      "authorship_tag": "ABX9TyPbG+QWPYMEkGnGOau1pLEU",
      "include_colab_link": true
    },
    "kernelspec": {
      "name": "python3",
      "display_name": "Python 3"
    },
    "language_info": {
      "name": "python"
    }
  },
  "cells": [
    {
      "cell_type": "markdown",
      "metadata": {
        "id": "view-in-github",
        "colab_type": "text"
      },
      "source": [
        "<a href=\"https://colab.research.google.com/github/MissRacheal/Dissertation_Mental_Health/blob/main/Dissertation_Data_Ethnic.ipynb\" target=\"_parent\"><img src=\"https://colab.research.google.com/assets/colab-badge.svg\" alt=\"Open In Colab\"/></a>"
      ]
    },
    {
      "cell_type": "code",
      "execution_count": null,
      "metadata": {
        "colab": {
          "base_uri": "https://localhost:8080/"
        },
        "id": "3ZLGNOPlkjV9",
        "outputId": "542248f2-eb37-4cf6-ec10-6134e17bae0d"
      },
      "outputs": [
        {
          "output_type": "stream",
          "name": "stdout",
          "text": [
            "  Unnamed: 0 White British  White Other  Black / Black British  \\\n",
            "0        NaN              %            %                     %   \n",
            "1        All      14.898911     8.318856              5.565167   \n",
            "2       Boys      14.826708      8.93612              3.378199   \n",
            "3      Girls      14.975495     7.713509              7.689691   \n",
            "4     Bases             NaN          NaN                   NaN   \n",
            "\n",
            "  Asian / Asian British Mixed / Other        All  \n",
            "0                     %             %          %  \n",
            "1              5.223113     12.070338  12.790129  \n",
            "2              3.915887     13.823038  12.649244  \n",
            "3               6.58724     10.195271  12.938183  \n",
            "4                   NaN           NaN        NaN  \n",
            "Unnamed: 0               object\n",
            "White British            object\n",
            "White Other              object\n",
            "Black / Black British    object\n",
            "Asian / Asian British    object\n",
            "Mixed / Other            object\n",
            "All                      object\n",
            "dtype: object\n"
          ]
        }
      ],
      "source": [
        "import pandas as pd\n",
        "\n",
        "df = pd.read_excel('data_ethnic.xlsx')\n",
        "\n",
        "print(df.head())\n",
        "\n",
        "\n",
        "# Check data types\n",
        "print(df.dtypes)"
      ]
    },
    {
      "cell_type": "code",
      "source": [
        "df.describe()"
      ],
      "metadata": {
        "id": "3cUzRtjCTSa-",
        "outputId": "0fcc4cec-dd8c-4228-e594-e6544a0b6453",
        "colab": {
          "base_uri": "https://localhost:8080/",
          "height": 192
        }
      },
      "execution_count": null,
      "outputs": [
        {
          "output_type": "execute_result",
          "data": {
            "text/plain": [
              "       Unnamed: 0 White British  White Other  Black / Black British  \\\n",
              "count           7              7            7                     7   \n",
              "unique          4              7            7                     7   \n",
              "top           All              %            %                     %   \n",
              "freq            2              1            1                     1   \n",
              "\n",
              "       Asian / Asian British Mixed / Other All  \n",
              "count                      7             7   7  \n",
              "unique                     7             7   7  \n",
              "top                        %             %   %  \n",
              "freq                       1             1   1  "
            ],
            "text/html": [
              "\n",
              "  <div id=\"df-8b7be1ef-769c-49ef-ae70-ad9d9021de27\" class=\"colab-df-container\">\n",
              "    <div>\n",
              "<style scoped>\n",
              "    .dataframe tbody tr th:only-of-type {\n",
              "        vertical-align: middle;\n",
              "    }\n",
              "\n",
              "    .dataframe tbody tr th {\n",
              "        vertical-align: top;\n",
              "    }\n",
              "\n",
              "    .dataframe thead th {\n",
              "        text-align: right;\n",
              "    }\n",
              "</style>\n",
              "<table border=\"1\" class=\"dataframe\">\n",
              "  <thead>\n",
              "    <tr style=\"text-align: right;\">\n",
              "      <th></th>\n",
              "      <th>Unnamed: 0</th>\n",
              "      <th>White British</th>\n",
              "      <th>White Other</th>\n",
              "      <th>Black / Black British</th>\n",
              "      <th>Asian / Asian British</th>\n",
              "      <th>Mixed / Other</th>\n",
              "      <th>All</th>\n",
              "    </tr>\n",
              "  </thead>\n",
              "  <tbody>\n",
              "    <tr>\n",
              "      <th>count</th>\n",
              "      <td>7</td>\n",
              "      <td>7</td>\n",
              "      <td>7</td>\n",
              "      <td>7</td>\n",
              "      <td>7</td>\n",
              "      <td>7</td>\n",
              "      <td>7</td>\n",
              "    </tr>\n",
              "    <tr>\n",
              "      <th>unique</th>\n",
              "      <td>4</td>\n",
              "      <td>7</td>\n",
              "      <td>7</td>\n",
              "      <td>7</td>\n",
              "      <td>7</td>\n",
              "      <td>7</td>\n",
              "      <td>7</td>\n",
              "    </tr>\n",
              "    <tr>\n",
              "      <th>top</th>\n",
              "      <td>All</td>\n",
              "      <td>%</td>\n",
              "      <td>%</td>\n",
              "      <td>%</td>\n",
              "      <td>%</td>\n",
              "      <td>%</td>\n",
              "      <td>%</td>\n",
              "    </tr>\n",
              "    <tr>\n",
              "      <th>freq</th>\n",
              "      <td>2</td>\n",
              "      <td>1</td>\n",
              "      <td>1</td>\n",
              "      <td>1</td>\n",
              "      <td>1</td>\n",
              "      <td>1</td>\n",
              "      <td>1</td>\n",
              "    </tr>\n",
              "  </tbody>\n",
              "</table>\n",
              "</div>\n",
              "    <div class=\"colab-df-buttons\">\n",
              "\n",
              "  <div class=\"colab-df-container\">\n",
              "    <button class=\"colab-df-convert\" onclick=\"convertToInteractive('df-8b7be1ef-769c-49ef-ae70-ad9d9021de27')\"\n",
              "            title=\"Convert this dataframe to an interactive table.\"\n",
              "            style=\"display:none;\">\n",
              "\n",
              "  <svg xmlns=\"http://www.w3.org/2000/svg\" height=\"24px\" viewBox=\"0 -960 960 960\">\n",
              "    <path d=\"M120-120v-720h720v720H120Zm60-500h600v-160H180v160Zm220 220h160v-160H400v160Zm0 220h160v-160H400v160ZM180-400h160v-160H180v160Zm440 0h160v-160H620v160ZM180-180h160v-160H180v160Zm440 0h160v-160H620v160Z\"/>\n",
              "  </svg>\n",
              "    </button>\n",
              "\n",
              "  <style>\n",
              "    .colab-df-container {\n",
              "      display:flex;\n",
              "      gap: 12px;\n",
              "    }\n",
              "\n",
              "    .colab-df-convert {\n",
              "      background-color: #E8F0FE;\n",
              "      border: none;\n",
              "      border-radius: 50%;\n",
              "      cursor: pointer;\n",
              "      display: none;\n",
              "      fill: #1967D2;\n",
              "      height: 32px;\n",
              "      padding: 0 0 0 0;\n",
              "      width: 32px;\n",
              "    }\n",
              "\n",
              "    .colab-df-convert:hover {\n",
              "      background-color: #E2EBFA;\n",
              "      box-shadow: 0px 1px 2px rgba(60, 64, 67, 0.3), 0px 1px 3px 1px rgba(60, 64, 67, 0.15);\n",
              "      fill: #174EA6;\n",
              "    }\n",
              "\n",
              "    .colab-df-buttons div {\n",
              "      margin-bottom: 4px;\n",
              "    }\n",
              "\n",
              "    [theme=dark] .colab-df-convert {\n",
              "      background-color: #3B4455;\n",
              "      fill: #D2E3FC;\n",
              "    }\n",
              "\n",
              "    [theme=dark] .colab-df-convert:hover {\n",
              "      background-color: #434B5C;\n",
              "      box-shadow: 0px 1px 3px 1px rgba(0, 0, 0, 0.15);\n",
              "      filter: drop-shadow(0px 1px 2px rgba(0, 0, 0, 0.3));\n",
              "      fill: #FFFFFF;\n",
              "    }\n",
              "  </style>\n",
              "\n",
              "    <script>\n",
              "      const buttonEl =\n",
              "        document.querySelector('#df-8b7be1ef-769c-49ef-ae70-ad9d9021de27 button.colab-df-convert');\n",
              "      buttonEl.style.display =\n",
              "        google.colab.kernel.accessAllowed ? 'block' : 'none';\n",
              "\n",
              "      async function convertToInteractive(key) {\n",
              "        const element = document.querySelector('#df-8b7be1ef-769c-49ef-ae70-ad9d9021de27');\n",
              "        const dataTable =\n",
              "          await google.colab.kernel.invokeFunction('convertToInteractive',\n",
              "                                                    [key], {});\n",
              "        if (!dataTable) return;\n",
              "\n",
              "        const docLinkHtml = 'Like what you see? Visit the ' +\n",
              "          '<a target=\"_blank\" href=https://colab.research.google.com/notebooks/data_table.ipynb>data table notebook</a>'\n",
              "          + ' to learn more about interactive tables.';\n",
              "        element.innerHTML = '';\n",
              "        dataTable['output_type'] = 'display_data';\n",
              "        await google.colab.output.renderOutput(dataTable, element);\n",
              "        const docLink = document.createElement('div');\n",
              "        docLink.innerHTML = docLinkHtml;\n",
              "        element.appendChild(docLink);\n",
              "      }\n",
              "    </script>\n",
              "  </div>\n",
              "\n",
              "\n",
              "<div id=\"df-f4e14a74-7afc-4411-8fc6-bfd32d59cdea\">\n",
              "  <button class=\"colab-df-quickchart\" onclick=\"quickchart('df-f4e14a74-7afc-4411-8fc6-bfd32d59cdea')\"\n",
              "            title=\"Suggest charts\"\n",
              "            style=\"display:none;\">\n",
              "\n",
              "<svg xmlns=\"http://www.w3.org/2000/svg\" height=\"24px\"viewBox=\"0 0 24 24\"\n",
              "     width=\"24px\">\n",
              "    <g>\n",
              "        <path d=\"M19 3H5c-1.1 0-2 .9-2 2v14c0 1.1.9 2 2 2h14c1.1 0 2-.9 2-2V5c0-1.1-.9-2-2-2zM9 17H7v-7h2v7zm4 0h-2V7h2v10zm4 0h-2v-4h2v4z\"/>\n",
              "    </g>\n",
              "</svg>\n",
              "  </button>\n",
              "\n",
              "<style>\n",
              "  .colab-df-quickchart {\n",
              "      --bg-color: #E8F0FE;\n",
              "      --fill-color: #1967D2;\n",
              "      --hover-bg-color: #E2EBFA;\n",
              "      --hover-fill-color: #174EA6;\n",
              "      --disabled-fill-color: #AAA;\n",
              "      --disabled-bg-color: #DDD;\n",
              "  }\n",
              "\n",
              "  [theme=dark] .colab-df-quickchart {\n",
              "      --bg-color: #3B4455;\n",
              "      --fill-color: #D2E3FC;\n",
              "      --hover-bg-color: #434B5C;\n",
              "      --hover-fill-color: #FFFFFF;\n",
              "      --disabled-bg-color: #3B4455;\n",
              "      --disabled-fill-color: #666;\n",
              "  }\n",
              "\n",
              "  .colab-df-quickchart {\n",
              "    background-color: var(--bg-color);\n",
              "    border: none;\n",
              "    border-radius: 50%;\n",
              "    cursor: pointer;\n",
              "    display: none;\n",
              "    fill: var(--fill-color);\n",
              "    height: 32px;\n",
              "    padding: 0;\n",
              "    width: 32px;\n",
              "  }\n",
              "\n",
              "  .colab-df-quickchart:hover {\n",
              "    background-color: var(--hover-bg-color);\n",
              "    box-shadow: 0 1px 2px rgba(60, 64, 67, 0.3), 0 1px 3px 1px rgba(60, 64, 67, 0.15);\n",
              "    fill: var(--button-hover-fill-color);\n",
              "  }\n",
              "\n",
              "  .colab-df-quickchart-complete:disabled,\n",
              "  .colab-df-quickchart-complete:disabled:hover {\n",
              "    background-color: var(--disabled-bg-color);\n",
              "    fill: var(--disabled-fill-color);\n",
              "    box-shadow: none;\n",
              "  }\n",
              "\n",
              "  .colab-df-spinner {\n",
              "    border: 2px solid var(--fill-color);\n",
              "    border-color: transparent;\n",
              "    border-bottom-color: var(--fill-color);\n",
              "    animation:\n",
              "      spin 1s steps(1) infinite;\n",
              "  }\n",
              "\n",
              "  @keyframes spin {\n",
              "    0% {\n",
              "      border-color: transparent;\n",
              "      border-bottom-color: var(--fill-color);\n",
              "      border-left-color: var(--fill-color);\n",
              "    }\n",
              "    20% {\n",
              "      border-color: transparent;\n",
              "      border-left-color: var(--fill-color);\n",
              "      border-top-color: var(--fill-color);\n",
              "    }\n",
              "    30% {\n",
              "      border-color: transparent;\n",
              "      border-left-color: var(--fill-color);\n",
              "      border-top-color: var(--fill-color);\n",
              "      border-right-color: var(--fill-color);\n",
              "    }\n",
              "    40% {\n",
              "      border-color: transparent;\n",
              "      border-right-color: var(--fill-color);\n",
              "      border-top-color: var(--fill-color);\n",
              "    }\n",
              "    60% {\n",
              "      border-color: transparent;\n",
              "      border-right-color: var(--fill-color);\n",
              "    }\n",
              "    80% {\n",
              "      border-color: transparent;\n",
              "      border-right-color: var(--fill-color);\n",
              "      border-bottom-color: var(--fill-color);\n",
              "    }\n",
              "    90% {\n",
              "      border-color: transparent;\n",
              "      border-bottom-color: var(--fill-color);\n",
              "    }\n",
              "  }\n",
              "</style>\n",
              "\n",
              "  <script>\n",
              "    async function quickchart(key) {\n",
              "      const quickchartButtonEl =\n",
              "        document.querySelector('#' + key + ' button');\n",
              "      quickchartButtonEl.disabled = true;  // To prevent multiple clicks.\n",
              "      quickchartButtonEl.classList.add('colab-df-spinner');\n",
              "      try {\n",
              "        const charts = await google.colab.kernel.invokeFunction(\n",
              "            'suggestCharts', [key], {});\n",
              "      } catch (error) {\n",
              "        console.error('Error during call to suggestCharts:', error);\n",
              "      }\n",
              "      quickchartButtonEl.classList.remove('colab-df-spinner');\n",
              "      quickchartButtonEl.classList.add('colab-df-quickchart-complete');\n",
              "    }\n",
              "    (() => {\n",
              "      let quickchartButtonEl =\n",
              "        document.querySelector('#df-f4e14a74-7afc-4411-8fc6-bfd32d59cdea button');\n",
              "      quickchartButtonEl.style.display =\n",
              "        google.colab.kernel.accessAllowed ? 'block' : 'none';\n",
              "    })();\n",
              "  </script>\n",
              "</div>\n",
              "\n",
              "    </div>\n",
              "  </div>\n"
            ],
            "application/vnd.google.colaboratory.intrinsic+json": {
              "type": "dataframe",
              "summary": "{\n  \"name\": \"df\",\n  \"rows\": 4,\n  \"fields\": [\n    {\n      \"column\": \"Unnamed: 0\",\n      \"properties\": {\n        \"dtype\": \"string\",\n        \"num_unique_values\": 4,\n        \"samples\": [\n          4,\n          \"2\",\n          \"7\"\n        ],\n        \"semantic_type\": \"\",\n        \"description\": \"\"\n      }\n    },\n    {\n      \"column\": \"White British \",\n      \"properties\": {\n        \"dtype\": \"string\",\n        \"num_unique_values\": 3,\n        \"samples\": [\n          \"7\",\n          \"%\",\n          \"1\"\n        ],\n        \"semantic_type\": \"\",\n        \"description\": \"\"\n      }\n    },\n    {\n      \"column\": \"White Other \",\n      \"properties\": {\n        \"dtype\": \"string\",\n        \"num_unique_values\": 3,\n        \"samples\": [\n          \"7\",\n          \"%\",\n          \"1\"\n        ],\n        \"semantic_type\": \"\",\n        \"description\": \"\"\n      }\n    },\n    {\n      \"column\": \"Black / Black British\",\n      \"properties\": {\n        \"dtype\": \"string\",\n        \"num_unique_values\": 3,\n        \"samples\": [\n          \"7\",\n          \"%\",\n          \"1\"\n        ],\n        \"semantic_type\": \"\",\n        \"description\": \"\"\n      }\n    },\n    {\n      \"column\": \"Asian / Asian British\",\n      \"properties\": {\n        \"dtype\": \"string\",\n        \"num_unique_values\": 3,\n        \"samples\": [\n          \"7\",\n          \"%\",\n          \"1\"\n        ],\n        \"semantic_type\": \"\",\n        \"description\": \"\"\n      }\n    },\n    {\n      \"column\": \"Mixed / Other\",\n      \"properties\": {\n        \"dtype\": \"string\",\n        \"num_unique_values\": 3,\n        \"samples\": [\n          \"7\",\n          \"%\",\n          \"1\"\n        ],\n        \"semantic_type\": \"\",\n        \"description\": \"\"\n      }\n    },\n    {\n      \"column\": \"All\",\n      \"properties\": {\n        \"dtype\": \"string\",\n        \"num_unique_values\": 3,\n        \"samples\": [\n          \"7\",\n          \"%\",\n          \"1\"\n        ],\n        \"semantic_type\": \"\",\n        \"description\": \"\"\n      }\n    }\n  ]\n}"
            }
          },
          "metadata": {},
          "execution_count": 2
        }
      ]
    },
    {
      "cell_type": "code",
      "source": [
        "# Check for null values\n",
        "print(df.isnull().sum())"
      ],
      "metadata": {
        "colab": {
          "base_uri": "https://localhost:8080/"
        },
        "id": "lXeUFjD2niWn",
        "outputId": "7ca4faa4-45cc-4b94-f5fa-d7ebf846f531"
      },
      "execution_count": null,
      "outputs": [
        {
          "output_type": "stream",
          "name": "stdout",
          "text": [
            "Unnamed: 0                       1\n",
            "White British                    1\n",
            "White Other                      1\n",
            "Black /         Black British    1\n",
            "Asian /        Asian British     1\n",
            "Mixed / Other                    1\n",
            "All                              1\n",
            "dtype: int64\n"
          ]
        }
      ]
    },
    {
      "cell_type": "code",
      "source": [
        "import pandas as pd\n",
        "\n",
        "df = pd.read_excel('data_ethnic.xlsx')\n",
        "\n",
        "print(df.head())\n",
        "\n",
        "\n",
        "# Check data types\n",
        "print(df.dtypes)\n",
        "\n",
        "# Check for null values\n",
        "print(df.isnull().sum())\n",
        "\n",
        "\n",
        "# Fill or drop missing values\n",
        "df.fillna('missing', inplace=True)\n",
        "\n",
        "# Verify the changes\n",
        "print(df.head())\n"
      ],
      "metadata": {
        "colab": {
          "base_uri": "https://localhost:8080/"
        },
        "collapsed": true,
        "id": "L9-2-zQCnvnh",
        "outputId": "4b4032fa-4e32-4eb3-c5d5-e442ca3797c6"
      },
      "execution_count": null,
      "outputs": [
        {
          "output_type": "stream",
          "name": "stdout",
          "text": [
            "  Unnamed: 0 White British  White Other  Black / Black British  \\\n",
            "0        NaN              %            %                     %   \n",
            "1        All      14.898911     8.318856              5.565167   \n",
            "2       Boys      14.826708      8.93612              3.378199   \n",
            "3      Girls      14.975495     7.713509              7.689691   \n",
            "4     Bases             NaN          NaN                   NaN   \n",
            "\n",
            "  Asian / Asian British Mixed / Other        All  \n",
            "0                     %             %          %  \n",
            "1              5.223113     12.070338  12.790129  \n",
            "2              3.915887     13.823038  12.649244  \n",
            "3               6.58724     10.195271  12.938183  \n",
            "4                   NaN           NaN        NaN  \n",
            "Unnamed: 0               object\n",
            "White British            object\n",
            "White Other              object\n",
            "Black / Black British    object\n",
            "Asian / Asian British    object\n",
            "Mixed / Other            object\n",
            "All                      object\n",
            "dtype: object\n",
            "Unnamed: 0               1\n",
            "White British            1\n",
            "White Other              1\n",
            "Black / Black British    1\n",
            "Asian / Asian British    1\n",
            "Mixed / Other            1\n",
            "All                      1\n",
            "dtype: int64\n",
            "  Unnamed: 0 White British  White Other  Black / Black British  \\\n",
            "0    missing              %            %                     %   \n",
            "1        All      14.898911     8.318856              5.565167   \n",
            "2       Boys      14.826708      8.93612              3.378199   \n",
            "3      Girls      14.975495     7.713509              7.689691   \n",
            "4     Bases         missing      missing               missing   \n",
            "\n",
            "  Asian / Asian British Mixed / Other        All  \n",
            "0                     %             %          %  \n",
            "1              5.223113     12.070338  12.790129  \n",
            "2              3.915887     13.823038  12.649244  \n",
            "3               6.58724     10.195271  12.938183  \n",
            "4               missing       missing    missing  \n"
          ]
        }
      ]
    },
    {
      "cell_type": "code",
      "source": [
        "import pandas as pd\n",
        "\n",
        "df = pd.read_excel('data_ethnic.xlsx')\n",
        "\n",
        "\n",
        "# Check data types\n",
        "print(df.dtypes)"
      ],
      "metadata": {
        "colab": {
          "base_uri": "https://localhost:8080/"
        },
        "id": "kXhLiz8HeB0q",
        "outputId": "9799bd98-36ef-44b9-fbc4-1c4e2fe0a160"
      },
      "execution_count": null,
      "outputs": [
        {
          "output_type": "stream",
          "name": "stdout",
          "text": [
            "Unnamed: 0               object\n",
            "White British            object\n",
            "White Other              object\n",
            "Black / Black British    object\n",
            "Asian / Asian British    object\n",
            "Mixed / Other            object\n",
            "All                      object\n",
            "dtype: object\n"
          ]
        }
      ]
    },
    {
      "cell_type": "code",
      "source": [
        "import pandas as pd\n",
        "\n",
        "df = pd.read_excel('data_ethnic.xlsx')\n",
        "\n",
        "# Fill missing values\n",
        "df.fillna('missing', inplace=True)\n",
        "\n",
        "print(df.head())"
      ],
      "metadata": {
        "colab": {
          "base_uri": "https://localhost:8080/"
        },
        "id": "Udkra2GQRCOt",
        "outputId": "70fb6989-07ed-4797-d53c-31e32aad093e"
      },
      "execution_count": null,
      "outputs": [
        {
          "output_type": "stream",
          "name": "stdout",
          "text": [
            "  Unnamed: 0 White British  White Other  Black / Black British  \\\n",
            "0    missing              %            %                     %   \n",
            "1        All      14.898911     8.318856              5.565167   \n",
            "2       Boys      14.826708      8.93612              3.378199   \n",
            "3      Girls      14.975495     7.713509              7.689691   \n",
            "4     Bases         missing      missing               missing   \n",
            "\n",
            "  Asian / Asian British Mixed / Other        All  \n",
            "0                     %             %          %  \n",
            "1              5.223113     12.070338  12.790129  \n",
            "2              3.915887     13.823038  12.649244  \n",
            "3               6.58724     10.195271  12.938183  \n",
            "4               missing       missing    missing  \n"
          ]
        }
      ]
    },
    {
      "cell_type": "code",
      "source": [
        "# Check the actual column names\n",
        "print(df.columns)\n"
      ],
      "metadata": {
        "colab": {
          "base_uri": "https://localhost:8080/"
        },
        "id": "tsYw4lGzoWo7",
        "outputId": "d2e85027-66a2-488c-ba80-e7036858b71d"
      },
      "execution_count": null,
      "outputs": [
        {
          "output_type": "stream",
          "name": "stdout",
          "text": [
            "Index(['Unnamed: 0', 'white_british_percent', 'white_other_percent',\n",
            "       'black_british_percent', 'asian_british_percent', 'mixed_other_percent',\n",
            "       'all_percent'],\n",
            "      dtype='object')\n"
          ]
        }
      ]
    },
    {
      "cell_type": "code",
      "source": [
        "df.rename(columns={\n",
        "'White British ': 'white_british_percent',\n",
        "'White Other ': 'white_other_percent',\n",
        "'Black / Black British': 'black_british_percent',\n",
        "'Asian / Asian British': 'asian_british_percent',\n",
        "'Mixed / Other': 'mixed_other_percent',\n",
        "'All': 'all_percent'\n",
        "}, inplace=True)\n"
      ],
      "metadata": {
        "id": "8L-NacSEpRuT"
      },
      "execution_count": null,
      "outputs": []
    },
    {
      "cell_type": "code",
      "source": [
        "# Updated list of columns\n",
        "percentage_columns = ['white_british_percent', 'white_other_percent', 'black_british_percent', 'asian_british_percent', 'mixed_other_percent', 'all_percent']\n",
        "\n",
        "# Convert these columns to numeric values\n",
        "df[percentage_columns] = df[percentage_columns].apply(pd.to_numeric, errors='coerce')\n",
        "\n",
        "# Check the data types after conversion\n",
        "print(df.dtypes)\n",
        "#calculate mean percentage\n",
        "mean_by_ethnicity = df[percentage_columns].mean()\n",
        "print(\"Mean percentage by ethnicity:\\n\", mean_by_ethnicity)\n"
      ],
      "metadata": {
        "colab": {
          "base_uri": "https://localhost:8080/"
        },
        "id": "URMoKiCzpyXE",
        "outputId": "b01811ee-e91b-45cf-bcb4-1bbbd286d717"
      },
      "execution_count": null,
      "outputs": [
        {
          "output_type": "stream",
          "name": "stdout",
          "text": [
            "Unnamed: 0                object\n",
            "white_british_percent    float64\n",
            "white_other_percent      float64\n",
            "black_british_percent    float64\n",
            "asian_british_percent    float64\n",
            "mixed_other_percent      float64\n",
            "all_percent              float64\n",
            "dtype: object\n",
            "Mean percentage by ethnicity:\n",
            " white_british_percent    1943.783519\n",
            "white_other_percent        97.828081\n",
            "black_british_percent     107.105509\n",
            "asian_british_percent     262.287707\n",
            "mixed_other_percent       162.681441\n",
            "all_percent              2557.729593\n",
            "dtype: float64\n"
          ]
        }
      ]
    },
    {
      "cell_type": "code",
      "source": [
        "import pandas as pd\n",
        "\n",
        "# Example structure of your dataset\n",
        "data = {\n",
        "    'Ethnic group': ['white_british_percent', 'white_other_percent', 'black_british_percent', 'asian_british_percent', 'all_percent'],\n",
        "    'Boys': [14.8, 8.9, 3.4, 3.9, 13.8],\n",
        "    'Girls': [15.0, 7.7, 7.7, 6.6, 10.2],\n",
        "    'All': [14.9, 8.3, 5.6, 5.2, 12.1]\n",
        "}\n",
        "\n",
        "# Create DataFrame\n",
        "df = pd.DataFrame(data)\n",
        "\n",
        "# Reshape the data to include 'Mental disorder' and 'Gender' columns\n",
        "df_long = df.melt(id_vars='Ethnic group', var_name='Gender', value_name='Percentage')\n",
        "\n",
        "# Display the resulting DataFrame\n",
        "print(df_long)\n",
        "\n"
      ],
      "metadata": {
        "colab": {
          "base_uri": "https://localhost:8080/"
        },
        "id": "Z6JpiVRutws4",
        "outputId": "8c0ca40d-8f15-4cfc-a477-9677c5bc1cb1"
      },
      "execution_count": null,
      "outputs": [
        {
          "output_type": "stream",
          "name": "stdout",
          "text": [
            "             Ethnic group Gender  Percentage\n",
            "0   white_british_percent   Boys        14.8\n",
            "1     white_other_percent   Boys         8.9\n",
            "2   black_british_percent   Boys         3.4\n",
            "3   asian_british_percent   Boys         3.9\n",
            "4             all_percent   Boys        13.8\n",
            "5   white_british_percent  Girls        15.0\n",
            "6     white_other_percent  Girls         7.7\n",
            "7   black_british_percent  Girls         7.7\n",
            "8   asian_british_percent  Girls         6.6\n",
            "9             all_percent  Girls        10.2\n",
            "10  white_british_percent    All        14.9\n",
            "11    white_other_percent    All         8.3\n",
            "12  black_british_percent    All         5.6\n",
            "13  asian_british_percent    All         5.2\n",
            "14            all_percent    All        12.1\n"
          ]
        }
      ]
    },
    {
      "cell_type": "code",
      "source": [
        "# Group by Ethnic group and Gender to calculate the mean percentage\n",
        "mean_percentages = df_long.groupby(['Ethnic group', 'Gender'])['Percentage'].mean()\n",
        "\n",
        "# Display the results\n",
        "print(\"Mean percentage by ethnic group and gender:\\n\", mean_percentages)\n"
      ],
      "metadata": {
        "colab": {
          "base_uri": "https://localhost:8080/"
        },
        "id": "GXYxazBMs0Dx",
        "outputId": "54733790-d60e-4c7a-f763-6f90815c2189"
      },
      "execution_count": null,
      "outputs": [
        {
          "output_type": "stream",
          "name": "stdout",
          "text": [
            "Mean percentage by ethnic group and gender:\n",
            " Ethnic group           Gender\n",
            "all_percent            All       12.1\n",
            "                       Boys      13.8\n",
            "                       Girls     10.2\n",
            "asian_british_percent  All        5.2\n",
            "                       Boys       3.9\n",
            "                       Girls      6.6\n",
            "black_british_percent  All        5.6\n",
            "                       Boys       3.4\n",
            "                       Girls      7.7\n",
            "white_british_percent  All       14.9\n",
            "                       Boys      14.8\n",
            "                       Girls     15.0\n",
            "white_other_percent    All        8.3\n",
            "                       Boys       8.9\n",
            "                       Girls      7.7\n",
            "Name: Percentage, dtype: float64\n"
          ]
        }
      ]
    },
    {
      "cell_type": "code",
      "source": [
        "import pandas as pd\n",
        "import seaborn as sns\n",
        "import matplotlib.pyplot as plt\n",
        "\n",
        "# Reshape the data to include 'Gender' and 'Percentage' columns\n",
        "df_long = df.melt(id_vars='Ethnic group', var_name='Gender', value_name='Percentage')\n",
        "\n",
        "# Set up the visualisation\n",
        "plt.figure(figsize=(10, 6))\n",
        "sns.barplot(x='Ethnic group', y='Percentage', hue='Gender', data=df_long)\n",
        "\n",
        "# Add title and labels\n",
        "plt.title('Mental Disorder Prevalence by Ethnic Group and Gender')\n",
        "plt.xlabel('Ethnic Group')\n",
        "plt.ylabel('Percentage')\n",
        "\n",
        "# Rotate x-axis labels for better readability\n",
        "plt.xticks(rotation=45)\n",
        "\n",
        "# Display the chart\n",
        "plt.tight_layout()\n",
        "plt.show()"
      ],
      "metadata": {
        "colab": {
          "base_uri": "https://localhost:8080/",
          "height": 652
        },
        "id": "ipVFUTH8vCy4",
        "outputId": "1ee9bd80-677c-46f6-c33d-2282beded498"
      },
      "execution_count": null,
      "outputs": [
        {
          "output_type": "stream",
          "name": "stderr",
          "text": [
            "/usr/local/lib/python3.10/dist-packages/seaborn/_base.py:949: FutureWarning: When grouping with a length-1 list-like, you will need to pass a length-1 tuple to get_group in a future version of pandas. Pass `(name,)` instead of `name` to silence this warning.\n",
            "  data_subset = grouped_data.get_group(pd_key)\n",
            "/usr/local/lib/python3.10/dist-packages/seaborn/_base.py:949: FutureWarning: When grouping with a length-1 list-like, you will need to pass a length-1 tuple to get_group in a future version of pandas. Pass `(name,)` instead of `name` to silence this warning.\n",
            "  data_subset = grouped_data.get_group(pd_key)\n",
            "/usr/local/lib/python3.10/dist-packages/seaborn/_base.py:949: FutureWarning: When grouping with a length-1 list-like, you will need to pass a length-1 tuple to get_group in a future version of pandas. Pass `(name,)` instead of `name` to silence this warning.\n",
            "  data_subset = grouped_data.get_group(pd_key)\n"
          ]
        },
        {
          "output_type": "display_data",
          "data": {
            "text/plain": [
              "<Figure size 1000x600 with 1 Axes>"
            ],
            "image/png": "[encoded data removed]"
          },
          "metadata": {}
        }
      ]
    }
  ]
}